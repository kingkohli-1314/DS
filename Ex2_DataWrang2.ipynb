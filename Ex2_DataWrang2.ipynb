{
 "cells": [
  {
   "cell_type": "code",
   "execution_count": 81,
   "metadata": {},
   "outputs": [],
   "source": [
    "import numpy as np\n",
    "import matplotlib.pyplot as plt\n",
    "import pandas as pd\n",
    "import seaborn as sns\n",
    "%matplotlib inline"
   ]
  },
  {
   "cell_type": "code",
   "execution_count": 82,
   "metadata": {},
   "outputs": [],
   "source": [
    "import pandas as pd"
   ]
  },
  {
   "cell_type": "code",
   "execution_count": 83,
   "metadata": {},
   "outputs": [],
   "source": [
    "df = pd.read_csv(\"/home/abhishek/Desktop/DSBDA/AcademicPerformance.csv\")"
   ]
  },
  {
   "cell_type": "code",
   "execution_count": 84,
   "metadata": {},
   "outputs": [
    {
     "data": {
      "text/html": [
       "<div>\n",
       "<style scoped>\n",
       "    .dataframe tbody tr th:only-of-type {\n",
       "        vertical-align: middle;\n",
       "    }\n",
       "\n",
       "    .dataframe tbody tr th {\n",
       "        vertical-align: top;\n",
       "    }\n",
       "\n",
       "    .dataframe thead th {\n",
       "        text-align: right;\n",
       "    }\n",
       "</style>\n",
       "<table border=\"1\" class=\"dataframe\">\n",
       "  <thead>\n",
       "    <tr style=\"text-align: right;\">\n",
       "      <th></th>\n",
       "      <th>gender</th>\n",
       "      <th>race/ethnicity</th>\n",
       "      <th>parental level of education</th>\n",
       "      <th>lunch</th>\n",
       "      <th>test preparation course</th>\n",
       "      <th>Year_Birth</th>\n",
       "      <th>math score</th>\n",
       "      <th>reading score</th>\n",
       "      <th>writing score</th>\n",
       "      <th>Dt_Admission</th>\n",
       "      <th>College_Fees</th>\n",
       "    </tr>\n",
       "  </thead>\n",
       "  <tbody>\n",
       "    <tr>\n",
       "      <th>0</th>\n",
       "      <td>female</td>\n",
       "      <td>group B</td>\n",
       "      <td>bachelor's degree</td>\n",
       "      <td>standard</td>\n",
       "      <td>none</td>\n",
       "      <td>1970.0</td>\n",
       "      <td>72.0</td>\n",
       "      <td>72</td>\n",
       "      <td>74</td>\n",
       "      <td>6/16/14</td>\n",
       "      <td>$84,835.00</td>\n",
       "    </tr>\n",
       "    <tr>\n",
       "      <th>1</th>\n",
       "      <td>female</td>\n",
       "      <td>group C</td>\n",
       "      <td>some college</td>\n",
       "      <td>standard</td>\n",
       "      <td>completed</td>\n",
       "      <td>1961.0</td>\n",
       "      <td>NaN</td>\n",
       "      <td>na</td>\n",
       "      <td>A</td>\n",
       "      <td>6/15/14</td>\n",
       "      <td>$57,091.00</td>\n",
       "    </tr>\n",
       "    <tr>\n",
       "      <th>2</th>\n",
       "      <td>female</td>\n",
       "      <td>group B</td>\n",
       "      <td>master's degree</td>\n",
       "      <td>standard</td>\n",
       "      <td>none</td>\n",
       "      <td>1958.0</td>\n",
       "      <td>90.0</td>\n",
       "      <td>95</td>\n",
       "      <td>93</td>\n",
       "      <td>5/13/14</td>\n",
       "      <td>$67,267.00</td>\n",
       "    </tr>\n",
       "    <tr>\n",
       "      <th>3</th>\n",
       "      <td>male</td>\n",
       "      <td>group A</td>\n",
       "      <td>associate's degree</td>\n",
       "      <td>free/reduced</td>\n",
       "      <td>none</td>\n",
       "      <td>1967.0</td>\n",
       "      <td>NaN</td>\n",
       "      <td>NaN</td>\n",
       "      <td>44</td>\n",
       "      <td>05-11-2014</td>\n",
       "      <td>$32,474.00</td>\n",
       "    </tr>\n",
       "    <tr>\n",
       "      <th>4</th>\n",
       "      <td>male</td>\n",
       "      <td>group C</td>\n",
       "      <td>some college</td>\n",
       "      <td>standard</td>\n",
       "      <td>none</td>\n",
       "      <td>1989.0</td>\n",
       "      <td>76.0</td>\n",
       "      <td>78</td>\n",
       "      <td>75</td>\n",
       "      <td>04-08-2014</td>\n",
       "      <td>$21,474.00</td>\n",
       "    </tr>\n",
       "    <tr>\n",
       "      <th>...</th>\n",
       "      <td>...</td>\n",
       "      <td>...</td>\n",
       "      <td>...</td>\n",
       "      <td>...</td>\n",
       "      <td>...</td>\n",
       "      <td>...</td>\n",
       "      <td>...</td>\n",
       "      <td>...</td>\n",
       "      <td>...</td>\n",
       "      <td>...</td>\n",
       "      <td>...</td>\n",
       "    </tr>\n",
       "    <tr>\n",
       "      <th>2235</th>\n",
       "      <td>NaN</td>\n",
       "      <td>NaN</td>\n",
       "      <td>NaN</td>\n",
       "      <td>NaN</td>\n",
       "      <td>NaN</td>\n",
       "      <td>NaN</td>\n",
       "      <td>NaN</td>\n",
       "      <td>NaN</td>\n",
       "      <td>NaN</td>\n",
       "      <td>NaN</td>\n",
       "      <td>NaN</td>\n",
       "    </tr>\n",
       "    <tr>\n",
       "      <th>2236</th>\n",
       "      <td>NaN</td>\n",
       "      <td>NaN</td>\n",
       "      <td>NaN</td>\n",
       "      <td>NaN</td>\n",
       "      <td>NaN</td>\n",
       "      <td>NaN</td>\n",
       "      <td>NaN</td>\n",
       "      <td>NaN</td>\n",
       "      <td>NaN</td>\n",
       "      <td>NaN</td>\n",
       "      <td>NaN</td>\n",
       "    </tr>\n",
       "    <tr>\n",
       "      <th>2237</th>\n",
       "      <td>NaN</td>\n",
       "      <td>NaN</td>\n",
       "      <td>NaN</td>\n",
       "      <td>NaN</td>\n",
       "      <td>NaN</td>\n",
       "      <td>NaN</td>\n",
       "      <td>NaN</td>\n",
       "      <td>NaN</td>\n",
       "      <td>NaN</td>\n",
       "      <td>NaN</td>\n",
       "      <td>NaN</td>\n",
       "    </tr>\n",
       "    <tr>\n",
       "      <th>2238</th>\n",
       "      <td>NaN</td>\n",
       "      <td>NaN</td>\n",
       "      <td>NaN</td>\n",
       "      <td>NaN</td>\n",
       "      <td>NaN</td>\n",
       "      <td>NaN</td>\n",
       "      <td>NaN</td>\n",
       "      <td>NaN</td>\n",
       "      <td>NaN</td>\n",
       "      <td>NaN</td>\n",
       "      <td>NaN</td>\n",
       "    </tr>\n",
       "    <tr>\n",
       "      <th>2239</th>\n",
       "      <td>NaN</td>\n",
       "      <td>NaN</td>\n",
       "      <td>NaN</td>\n",
       "      <td>NaN</td>\n",
       "      <td>NaN</td>\n",
       "      <td>NaN</td>\n",
       "      <td>NaN</td>\n",
       "      <td>NaN</td>\n",
       "      <td>NaN</td>\n",
       "      <td>NaN</td>\n",
       "      <td>NaN</td>\n",
       "    </tr>\n",
       "  </tbody>\n",
       "</table>\n",
       "<p>2240 rows × 11 columns</p>\n",
       "</div>"
      ],
      "text/plain": [
       "      gender race/ethnicity parental level of education         lunch  \\\n",
       "0     female        group B           bachelor's degree      standard   \n",
       "1     female        group C                some college      standard   \n",
       "2     female        group B             master's degree      standard   \n",
       "3       male        group A          associate's degree  free/reduced   \n",
       "4       male        group C                some college      standard   \n",
       "...      ...            ...                         ...           ...   \n",
       "2235     NaN            NaN                         NaN           NaN   \n",
       "2236     NaN            NaN                         NaN           NaN   \n",
       "2237     NaN            NaN                         NaN           NaN   \n",
       "2238     NaN            NaN                         NaN           NaN   \n",
       "2239     NaN            NaN                         NaN           NaN   \n",
       "\n",
       "     test preparation course  Year_Birth  math score reading score  \\\n",
       "0                       none      1970.0        72.0            72   \n",
       "1                  completed      1961.0         NaN            na   \n",
       "2                       none      1958.0        90.0            95   \n",
       "3                       none      1967.0         NaN           NaN   \n",
       "4                       none      1989.0        76.0            78   \n",
       "...                      ...         ...         ...           ...   \n",
       "2235                     NaN         NaN         NaN           NaN   \n",
       "2236                     NaN         NaN         NaN           NaN   \n",
       "2237                     NaN         NaN         NaN           NaN   \n",
       "2238                     NaN         NaN         NaN           NaN   \n",
       "2239                     NaN         NaN         NaN           NaN   \n",
       "\n",
       "     writing score Dt_Admission College_Fees  \n",
       "0               74      6/16/14  $84,835.00   \n",
       "1                A      6/15/14  $57,091.00   \n",
       "2               93      5/13/14  $67,267.00   \n",
       "3               44   05-11-2014  $32,474.00   \n",
       "4               75   04-08-2014  $21,474.00   \n",
       "...            ...          ...          ...  \n",
       "2235           NaN          NaN          NaN  \n",
       "2236           NaN          NaN          NaN  \n",
       "2237           NaN          NaN          NaN  \n",
       "2238           NaN          NaN          NaN  \n",
       "2239           NaN          NaN          NaN  \n",
       "\n",
       "[2240 rows x 11 columns]"
      ]
     },
     "execution_count": 84,
     "metadata": {},
     "output_type": "execute_result"
    }
   ],
   "source": [
    "df"
   ]
  },
  {
   "cell_type": "code",
   "execution_count": 85,
   "metadata": {},
   "outputs": [
    {
     "name": "stdout",
     "output_type": "stream",
     "text": [
      "0       72.0\n",
      "1        NaN\n",
      "2       90.0\n",
      "3        NaN\n",
      "4       76.0\n",
      "        ... \n",
      "2235     NaN\n",
      "2236     NaN\n",
      "2237     NaN\n",
      "2238     NaN\n",
      "2239     NaN\n",
      "Name: math score, Length: 2240, dtype: float64\n"
     ]
    }
   ],
   "source": [
    "print(df['math score'])"
   ]
  },
  {
   "cell_type": "code",
   "execution_count": 86,
   "metadata": {},
   "outputs": [
    {
     "name": "stdout",
     "output_type": "stream",
     "text": [
      "0       False\n",
      "1        True\n",
      "2       False\n",
      "3        True\n",
      "4       False\n",
      "        ...  \n",
      "2235     True\n",
      "2236     True\n",
      "2237     True\n",
      "2238     True\n",
      "2239     True\n",
      "Name: math score, Length: 2240, dtype: bool\n"
     ]
    }
   ],
   "source": [
    "print(df['math score'].isnull())"
   ]
  },
  {
   "cell_type": "code",
   "execution_count": 87,
   "metadata": {},
   "outputs": [
    {
     "name": "stdout",
     "output_type": "stream",
     "text": [
      "0        72\n",
      "1        na\n",
      "2        95\n",
      "3       NaN\n",
      "4        78\n",
      "       ... \n",
      "2235    NaN\n",
      "2236    NaN\n",
      "2237    NaN\n",
      "2238    NaN\n",
      "2239    NaN\n",
      "Name: reading score, Length: 2240, dtype: object\n"
     ]
    }
   ],
   "source": [
    "print(df['reading score'])"
   ]
  },
  {
   "cell_type": "code",
   "execution_count": 88,
   "metadata": {},
   "outputs": [
    {
     "name": "stdout",
     "output_type": "stream",
     "text": [
      "0       False\n",
      "1       False\n",
      "2       False\n",
      "3        True\n",
      "4       False\n",
      "        ...  \n",
      "2235     True\n",
      "2236     True\n",
      "2237     True\n",
      "2238     True\n",
      "2239     True\n",
      "Name: reading score, Length: 2240, dtype: bool\n"
     ]
    }
   ],
   "source": [
    "print(df['reading score'].isnull())"
   ]
  },
  {
   "cell_type": "code",
   "execution_count": 89,
   "metadata": {},
   "outputs": [],
   "source": [
    "missing_values = [\"n/a\", \"na\", \"--\",\"A\"]\n",
    "df = pd.read_csv(\"/home/abhishek/Desktop/DSBDA/AcademicPerformance.csv\", na_values = missing_values)"
   ]
  },
  {
   "cell_type": "code",
   "execution_count": 90,
   "metadata": {},
   "outputs": [
    {
     "name": "stdout",
     "output_type": "stream",
     "text": [
      "0       72.0\n",
      "1        NaN\n",
      "2       95.0\n",
      "3        NaN\n",
      "4       78.0\n",
      "        ... \n",
      "2235     NaN\n",
      "2236     NaN\n",
      "2237     NaN\n",
      "2238     NaN\n",
      "2239     NaN\n",
      "Name: reading score, Length: 2240, dtype: float64\n"
     ]
    }
   ],
   "source": [
    "print(df['reading score']) "
   ]
  },
  {
   "cell_type": "code",
   "execution_count": 91,
   "metadata": {},
   "outputs": [
    {
     "name": "stdout",
     "output_type": "stream",
     "text": [
      "0       False\n",
      "1        True\n",
      "2       False\n",
      "3        True\n",
      "4       False\n",
      "        ...  \n",
      "2235     True\n",
      "2236     True\n",
      "2237     True\n",
      "2238     True\n",
      "2239     True\n",
      "Name: reading score, Length: 2240, dtype: bool\n"
     ]
    }
   ],
   "source": [
    "print(df['reading score'].isnull())"
   ]
  },
  {
   "cell_type": "code",
   "execution_count": 92,
   "metadata": {},
   "outputs": [],
   "source": [
    "df['reading score']=df['reading score'].astype('float64')\n",
    "df['writing score']=df['writing score'].astype('float64')"
   ]
  },
  {
   "cell_type": "code",
   "execution_count": 93,
   "metadata": {},
   "outputs": [
    {
     "data": {
      "text/plain": [
       "Text(0.5, 1.0, 'math score')"
      ]
     },
     "execution_count": 93,
     "metadata": {},
     "output_type": "execute_result"
    },
    {
     "data": {
      "image/png": "[encoded data removed]",
      "text/plain": [
       "<Figure size 640x480 with 1 Axes>"
      ]
     },
     "metadata": {},
     "output_type": "display_data"
    }
   ],
   "source": [
    "sns.boxplot(data=df,x='math score')\n",
    "plt.title('math score')"
   ]
  },
  {
   "cell_type": "code",
   "execution_count": 94,
   "metadata": {},
   "outputs": [
    {
     "data": {
      "text/plain": [
       "Text(0.5, 1.0, 'reading score')"
      ]
     },
     "execution_count": 94,
     "metadata": {},
     "output_type": "execute_result"
    },
    {
     "data": {
      "image/png": "[encoded data removed]",
      "text/plain": [
       "<Figure size 640x480 with 1 Axes>"
      ]
     },
     "metadata": {},
     "output_type": "display_data"
    }
   ],
   "source": [
    "sns.boxplot(data=df,x='reading score')\n",
    "plt.title('reading score')"
   ]
  },
  {
   "cell_type": "code",
   "execution_count": 95,
   "metadata": {},
   "outputs": [
    {
     "data": {
      "text/plain": [
       "Text(0.5, 1.0, 'writing score')"
      ]
     },
     "execution_count": 95,
     "metadata": {},
     "output_type": "execute_result"
    },
    {
     "data": {
      "image/png": "[encoded data removed]",
      "text/plain": [
       "<Figure size 640x480 with 1 Axes>"
      ]
     },
     "metadata": {},
     "output_type": "display_data"
    }
   ],
   "source": [
    "sns.boxplot(data=df,x='writing score')\n",
    "plt.title('writing score')"
   ]
  },
  {
   "cell_type": "code",
   "execution_count": 96,
   "metadata": {},
   "outputs": [],
   "source": [
    "def outlier(var):\n",
    "    print(var + \":\")\n",
    "    global df\n",
    "    q1=df[var].quantile(0.25)\n",
    "    q3=df[var].quantile(0.75)\n",
    "    iqr=q3-q1\n",
    "    print(\"iqr :\")\n",
    "    print(iqr)\n",
    "    high=q3+1.5*iqr\n",
    "    print(\"high :\")    \n",
    "    print(high)\n",
    "    low=q1-1.5*iqr\n",
    "    print(\"low :\")\n",
    "    print(low)\n",
    "    df=df[df[var]>low]"
   ]
  },
  {
   "cell_type": "code",
   "execution_count": 97,
   "metadata": {},
   "outputs": [
    {
     "name": "stdout",
     "output_type": "stream",
     "text": [
      "math score:\n",
      "iqr :\n",
      "20.0\n",
      "high :\n",
      "107.0\n",
      "low :\n",
      "27.0\n",
      "reading score:\n",
      "iqr :\n",
      "20.0\n",
      "high :\n",
      "110.0\n",
      "low :\n",
      "30.0\n",
      "writing score:\n",
      "iqr :\n",
      "21.0\n",
      "high :\n",
      "110.5\n",
      "low :\n",
      "26.5\n"
     ]
    }
   ],
   "source": [
    "outlier('math score')\n",
    "outlier('reading score')\n",
    "outlier('writing score')"
   ]
  },
  {
   "cell_type": "code",
   "execution_count": 98,
   "metadata": {},
   "outputs": [
    {
     "data": {
      "text/plain": [
       "Text(0.5, 1.0, 'math score')"
      ]
     },
     "execution_count": 98,
     "metadata": {},
     "output_type": "execute_result"
    },
    {
     "data": {
      "image/png": "[encoded data removed]",
      "text/plain": [
       "<Figure size 640x480 with 1 Axes>"
      ]
     },
     "metadata": {},
     "output_type": "display_data"
    }
   ],
   "source": [
    "sns.boxplot(data=df,x='math score')\n",
    "plt.title('math score')"
   ]
  },
  {
   "cell_type": "code",
   "execution_count": 99,
   "metadata": {},
   "outputs": [
    {
     "data": {
      "text/plain": [
       "Text(0.5, 1.0, 'reading score')"
      ]
     },
     "execution_count": 99,
     "metadata": {},
     "output_type": "execute_result"
    },
    {
     "data": {
      "image/png": "[encoded data removed]",
      "text/plain": [
       "<Figure size 640x480 with 1 Axes>"
      ]
     },
     "metadata": {},
     "output_type": "display_data"
    }
   ],
   "source": [
    "sns.boxplot(data=df,x='reading score')\n",
    "plt.title('reading score')"
   ]
  },
  {
   "cell_type": "code",
   "execution_count": 100,
   "metadata": {},
   "outputs": [
    {
     "data": {
      "text/plain": [
       "Text(0.5, 1.0, 'writing score')"
      ]
     },
     "execution_count": 100,
     "metadata": {},
     "output_type": "execute_result"
    },
    {
     "data": {
      "image/png": "[encoded data removed]",
      "text/plain": [
       "<Figure size 640x480 with 1 Axes>"
      ]
     },
     "metadata": {},
     "output_type": "display_data"
    }
   ],
   "source": [
    "sns.boxplot(data=df,x='writing score')\n",
    "plt.title('writing score')"
   ]
  },
  {
   "cell_type": "code",
   "execution_count": 101,
   "metadata": {},
   "outputs": [],
   "source": [
    "from datetime import date\n",
    "df['age'] = date.today().year - df['Year_Birth']"
   ]
  },
  {
   "cell_type": "code",
   "execution_count": 102,
   "metadata": {},
   "outputs": [],
   "source": [
    "df['Year'] = pd.DatetimeIndex(df['Dt_Admission']).year\n",
    "df['E_L'] = date.today().year - df['Year']"
   ]
  },
  {
   "cell_type": "code",
   "execution_count": 103,
   "metadata": {},
   "outputs": [
    {
     "data": {
      "text/html": [
       "<div>\n",
       "<style scoped>\n",
       "    .dataframe tbody tr th:only-of-type {\n",
       "        vertical-align: middle;\n",
       "    }\n",
       "\n",
       "    .dataframe tbody tr th {\n",
       "        vertical-align: top;\n",
       "    }\n",
       "\n",
       "    .dataframe thead th {\n",
       "        text-align: right;\n",
       "    }\n",
       "</style>\n",
       "<table border=\"1\" class=\"dataframe\">\n",
       "  <thead>\n",
       "    <tr style=\"text-align: right;\">\n",
       "      <th></th>\n",
       "      <th>gender</th>\n",
       "      <th>race/ethnicity</th>\n",
       "      <th>parental level of education</th>\n",
       "      <th>lunch</th>\n",
       "      <th>test preparation course</th>\n",
       "      <th>Year_Birth</th>\n",
       "      <th>math score</th>\n",
       "      <th>reading score</th>\n",
       "      <th>writing score</th>\n",
       "      <th>Dt_Admission</th>\n",
       "      <th>College_Fees</th>\n",
       "      <th>age</th>\n",
       "      <th>Year</th>\n",
       "      <th>E_L</th>\n",
       "    </tr>\n",
       "  </thead>\n",
       "  <tbody>\n",
       "    <tr>\n",
       "      <th>0</th>\n",
       "      <td>female</td>\n",
       "      <td>group B</td>\n",
       "      <td>bachelor's degree</td>\n",
       "      <td>standard</td>\n",
       "      <td>none</td>\n",
       "      <td>1970.0</td>\n",
       "      <td>72.0</td>\n",
       "      <td>72.0</td>\n",
       "      <td>74.0</td>\n",
       "      <td>6/16/14</td>\n",
       "      <td>$84,835.00</td>\n",
       "      <td>53.0</td>\n",
       "      <td>2014</td>\n",
       "      <td>9</td>\n",
       "    </tr>\n",
       "    <tr>\n",
       "      <th>2</th>\n",
       "      <td>female</td>\n",
       "      <td>group B</td>\n",
       "      <td>master's degree</td>\n",
       "      <td>standard</td>\n",
       "      <td>none</td>\n",
       "      <td>1958.0</td>\n",
       "      <td>90.0</td>\n",
       "      <td>95.0</td>\n",
       "      <td>93.0</td>\n",
       "      <td>5/13/14</td>\n",
       "      <td>$67,267.00</td>\n",
       "      <td>65.0</td>\n",
       "      <td>2014</td>\n",
       "      <td>9</td>\n",
       "    </tr>\n",
       "    <tr>\n",
       "      <th>4</th>\n",
       "      <td>male</td>\n",
       "      <td>group C</td>\n",
       "      <td>some college</td>\n",
       "      <td>standard</td>\n",
       "      <td>none</td>\n",
       "      <td>1989.0</td>\n",
       "      <td>76.0</td>\n",
       "      <td>78.0</td>\n",
       "      <td>75.0</td>\n",
       "      <td>04-08-2014</td>\n",
       "      <td>$21,474.00</td>\n",
       "      <td>34.0</td>\n",
       "      <td>2014</td>\n",
       "      <td>9</td>\n",
       "    </tr>\n",
       "    <tr>\n",
       "      <th>5</th>\n",
       "      <td>female</td>\n",
       "      <td>group B</td>\n",
       "      <td>associate's degree</td>\n",
       "      <td>standard</td>\n",
       "      <td>none</td>\n",
       "      <td>1958.0</td>\n",
       "      <td>71.0</td>\n",
       "      <td>83.0</td>\n",
       "      <td>78.0</td>\n",
       "      <td>3/17/14</td>\n",
       "      <td>$71,691.00</td>\n",
       "      <td>65.0</td>\n",
       "      <td>2014</td>\n",
       "      <td>9</td>\n",
       "    </tr>\n",
       "    <tr>\n",
       "      <th>6</th>\n",
       "      <td>female</td>\n",
       "      <td>group B</td>\n",
       "      <td>some college</td>\n",
       "      <td>standard</td>\n",
       "      <td>completed</td>\n",
       "      <td>1954.0</td>\n",
       "      <td>88.0</td>\n",
       "      <td>95.0</td>\n",
       "      <td>92.0</td>\n",
       "      <td>1/29/14</td>\n",
       "      <td>$63,564.00</td>\n",
       "      <td>69.0</td>\n",
       "      <td>2014</td>\n",
       "      <td>9</td>\n",
       "    </tr>\n",
       "  </tbody>\n",
       "</table>\n",
       "</div>"
      ],
      "text/plain": [
       "   gender race/ethnicity parental level of education     lunch  \\\n",
       "0  female        group B           bachelor's degree  standard   \n",
       "2  female        group B             master's degree  standard   \n",
       "4    male        group C                some college  standard   \n",
       "5  female        group B          associate's degree  standard   \n",
       "6  female        group B                some college  standard   \n",
       "\n",
       "  test preparation course  Year_Birth  math score  reading score  \\\n",
       "0                    none      1970.0        72.0           72.0   \n",
       "2                    none      1958.0        90.0           95.0   \n",
       "4                    none      1989.0        76.0           78.0   \n",
       "5                    none      1958.0        71.0           83.0   \n",
       "6               completed      1954.0        88.0           95.0   \n",
       "\n",
       "   writing score Dt_Admission College_Fees   age  Year  E_L  \n",
       "0           74.0      6/16/14  $84,835.00   53.0  2014    9  \n",
       "2           93.0      5/13/14  $67,267.00   65.0  2014    9  \n",
       "4           75.0   04-08-2014  $21,474.00   34.0  2014    9  \n",
       "5           78.0      3/17/14  $71,691.00   65.0  2014    9  \n",
       "6           92.0      1/29/14  $63,564.00   69.0  2014    9  "
      ]
     },
     "execution_count": 103,
     "metadata": {},
     "output_type": "execute_result"
    }
   ],
   "source": [
    "df.head(5)"
   ]
  },
  {
   "cell_type": "code",
   "execution_count": 104,
   "metadata": {},
   "outputs": [
    {
     "name": "stderr",
     "output_type": "stream",
     "text": [
      "/tmp/ipykernel_3851/1939753003.py:1: FutureWarning: The default value of regex will change from True to False in a future version. In addition, single character regular expressions will *not* be treated as literal strings when regex=True.\n",
      "  df['Fees$'] = df['College_Fees'].str.replace(',', '').str.replace('$', '').str.replace('.', '').fillna(0).astype(int)\n"
     ]
    }
   ],
   "source": [
    "df['Fees$'] = df['College_Fees'].str.replace(',', '').str.replace('$', '').str.replace('.', '').fillna(0).astype(int)\n",
    "df['Fees_M$'] = df['Fees$'].apply(lambda X:round(X/1000000))"
   ]
  },
  {
   "cell_type": "code",
   "execution_count": 105,
   "metadata": {},
   "outputs": [
    {
     "data": {
      "text/html": [
       "<div>\n",
       "<style scoped>\n",
       "    .dataframe tbody tr th:only-of-type {\n",
       "        vertical-align: middle;\n",
       "    }\n",
       "\n",
       "    .dataframe tbody tr th {\n",
       "        vertical-align: top;\n",
       "    }\n",
       "\n",
       "    .dataframe thead th {\n",
       "        text-align: right;\n",
       "    }\n",
       "</style>\n",
       "<table border=\"1\" class=\"dataframe\">\n",
       "  <thead>\n",
       "    <tr style=\"text-align: right;\">\n",
       "      <th></th>\n",
       "      <th>gender</th>\n",
       "      <th>race/ethnicity</th>\n",
       "      <th>parental level of education</th>\n",
       "      <th>lunch</th>\n",
       "      <th>test preparation course</th>\n",
       "      <th>Year_Birth</th>\n",
       "      <th>math score</th>\n",
       "      <th>reading score</th>\n",
       "      <th>writing score</th>\n",
       "      <th>Dt_Admission</th>\n",
       "      <th>College_Fees</th>\n",
       "      <th>age</th>\n",
       "      <th>Year</th>\n",
       "      <th>E_L</th>\n",
       "      <th>Fees$</th>\n",
       "      <th>Fees_M$</th>\n",
       "    </tr>\n",
       "  </thead>\n",
       "  <tbody>\n",
       "    <tr>\n",
       "      <th>0</th>\n",
       "      <td>female</td>\n",
       "      <td>group B</td>\n",
       "      <td>bachelor's degree</td>\n",
       "      <td>standard</td>\n",
       "      <td>none</td>\n",
       "      <td>1970.0</td>\n",
       "      <td>72.0</td>\n",
       "      <td>72.0</td>\n",
       "      <td>74.0</td>\n",
       "      <td>6/16/14</td>\n",
       "      <td>$84,835.00</td>\n",
       "      <td>53.0</td>\n",
       "      <td>2014</td>\n",
       "      <td>9</td>\n",
       "      <td>8483500</td>\n",
       "      <td>8</td>\n",
       "    </tr>\n",
       "    <tr>\n",
       "      <th>2</th>\n",
       "      <td>female</td>\n",
       "      <td>group B</td>\n",
       "      <td>master's degree</td>\n",
       "      <td>standard</td>\n",
       "      <td>none</td>\n",
       "      <td>1958.0</td>\n",
       "      <td>90.0</td>\n",
       "      <td>95.0</td>\n",
       "      <td>93.0</td>\n",
       "      <td>5/13/14</td>\n",
       "      <td>$67,267.00</td>\n",
       "      <td>65.0</td>\n",
       "      <td>2014</td>\n",
       "      <td>9</td>\n",
       "      <td>6726700</td>\n",
       "      <td>7</td>\n",
       "    </tr>\n",
       "    <tr>\n",
       "      <th>4</th>\n",
       "      <td>male</td>\n",
       "      <td>group C</td>\n",
       "      <td>some college</td>\n",
       "      <td>standard</td>\n",
       "      <td>none</td>\n",
       "      <td>1989.0</td>\n",
       "      <td>76.0</td>\n",
       "      <td>78.0</td>\n",
       "      <td>75.0</td>\n",
       "      <td>04-08-2014</td>\n",
       "      <td>$21,474.00</td>\n",
       "      <td>34.0</td>\n",
       "      <td>2014</td>\n",
       "      <td>9</td>\n",
       "      <td>2147400</td>\n",
       "      <td>2</td>\n",
       "    </tr>\n",
       "    <tr>\n",
       "      <th>5</th>\n",
       "      <td>female</td>\n",
       "      <td>group B</td>\n",
       "      <td>associate's degree</td>\n",
       "      <td>standard</td>\n",
       "      <td>none</td>\n",
       "      <td>1958.0</td>\n",
       "      <td>71.0</td>\n",
       "      <td>83.0</td>\n",
       "      <td>78.0</td>\n",
       "      <td>3/17/14</td>\n",
       "      <td>$71,691.00</td>\n",
       "      <td>65.0</td>\n",
       "      <td>2014</td>\n",
       "      <td>9</td>\n",
       "      <td>7169100</td>\n",
       "      <td>7</td>\n",
       "    </tr>\n",
       "    <tr>\n",
       "      <th>6</th>\n",
       "      <td>female</td>\n",
       "      <td>group B</td>\n",
       "      <td>some college</td>\n",
       "      <td>standard</td>\n",
       "      <td>completed</td>\n",
       "      <td>1954.0</td>\n",
       "      <td>88.0</td>\n",
       "      <td>95.0</td>\n",
       "      <td>92.0</td>\n",
       "      <td>1/29/14</td>\n",
       "      <td>$63,564.00</td>\n",
       "      <td>69.0</td>\n",
       "      <td>2014</td>\n",
       "      <td>9</td>\n",
       "      <td>6356400</td>\n",
       "      <td>6</td>\n",
       "    </tr>\n",
       "  </tbody>\n",
       "</table>\n",
       "</div>"
      ],
      "text/plain": [
       "   gender race/ethnicity parental level of education     lunch  \\\n",
       "0  female        group B           bachelor's degree  standard   \n",
       "2  female        group B             master's degree  standard   \n",
       "4    male        group C                some college  standard   \n",
       "5  female        group B          associate's degree  standard   \n",
       "6  female        group B                some college  standard   \n",
       "\n",
       "  test preparation course  Year_Birth  math score  reading score  \\\n",
       "0                    none      1970.0        72.0           72.0   \n",
       "2                    none      1958.0        90.0           95.0   \n",
       "4                    none      1989.0        76.0           78.0   \n",
       "5                    none      1958.0        71.0           83.0   \n",
       "6               completed      1954.0        88.0           95.0   \n",
       "\n",
       "   writing score Dt_Admission College_Fees   age  Year  E_L    Fees$  Fees_M$  \n",
       "0           74.0      6/16/14  $84,835.00   53.0  2014    9  8483500        8  \n",
       "2           93.0      5/13/14  $67,267.00   65.0  2014    9  6726700        7  \n",
       "4           75.0   04-08-2014  $21,474.00   34.0  2014    9  2147400        2  \n",
       "5           78.0      3/17/14  $71,691.00   65.0  2014    9  7169100        7  \n",
       "6           92.0      1/29/14  $63,564.00   69.0  2014    9  6356400        6  "
      ]
     },
     "execution_count": 105,
     "metadata": {},
     "output_type": "execute_result"
    }
   ],
   "source": [
    "df.head(5)"
   ]
  }
 ],
 "metadata": {
  "kernelspec": {
   "display_name": "Python 3 (ipykernel)",
   "language": "python",
   "name": "python3"
  },
  "language_info": {
   "codemirror_mode": {
    "name": "ipython",
    "version": 3
   },
   "file_extension": ".py",
   "mimetype": "text/x-python",
   "name": "python",
   "nbconvert_exporter": "python",
   "pygments_lexer": "ipython3",
   "version": "3.10.9"
  }
 },
 "nbformat": 4,
 "nbformat_minor": 4
}
